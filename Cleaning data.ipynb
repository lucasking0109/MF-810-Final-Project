{
 "cells": [
  {
   "cell_type": "code",
   "execution_count": 30,
   "metadata": {},
   "outputs": [],
   "source": [
    "import pandas as pd\n",
    "import numpy as np\n",
    "from sklearn.model_selection import train_test_split, cross_val_score\n",
    "from sklearn.ensemble import RandomForestClassifier\n",
    "from sklearn.feature_selection import SelectKBest, mutual_info_classif\n",
    "from sklearn.preprocessing import StandardScaler\n"
   ]
  },
  {
   "cell_type": "code",
   "execution_count": 19,
   "metadata": {},
   "outputs": [],
   "source": [
    "df = pd.read_csv(\"/Users/lucasking/Library/CloudStorage/OneDrive-Personal/桌面/BU/MF 810 Advanced programming/Final project/stock_data_5yr.csv\")\n",
    "df_clean = df.copy()\n",
    "\n"
   ]
  },
  {
   "cell_type": "code",
   "execution_count": 21,
   "metadata": {},
   "outputs": [
    {
     "name": "stdout",
     "output_type": "stream",
     "text": [
      "(1201726, 79)\n",
      "(1201726, 79)\n"
     ]
    }
   ],
   "source": [
    "print(df.shape)\n",
    "print(df_clean.shape)"
   ]
  },
  {
   "cell_type": "code",
   "execution_count": 22,
   "metadata": {},
   "outputs": [
    {
     "name": "stdout",
     "output_type": "stream",
     "text": [
      "偵測到的指標欄位： ['Return1', 'Gap', 'HL_Range', 'OC_Return', 'SMA5', 'EMA5', 'SMA10', 'EMA10', 'SMA20', 'EMA20', 'SMA50', 'EMA50', 'SMA100', 'EMA100', 'MACD', 'MACD_Signal', 'MACD_Diff', 'RSI14', 'ROC5', 'ROC10', 'ROC20', 'StochK', 'StochD', 'WilliamsR14', 'BB_HBand', 'BB_LBand', 'BB_Width', 'KC_HBand', 'KC_LBand', 'DC_HBand', 'DC_LBand', 'ATR14', 'ATR28', 'CCI20', 'ADX14', 'MassIndex', 'UltimateOsc', 'CMO14', 'OBV', 'AccDistIdx', 'ChaikinMF20', 'ForceIdx1', 'EaseOfMov14', 'VWAP14', 'Ichimoku_Conv', 'Ichimoku_Base', 'Vortex_pos', 'Vortex_neg', 'RollMaxH5', 'RollMinL5', 'RollMaxH10', 'RollMinL10', 'RollMaxH20', 'RollMinL20', 'RollMaxH50', 'RollMinL50', 'Autocorr1', 'Skew10', 'Kurt10', 'Sharpe10', 'Drawdown20', 'ZScore10', 'SMA5_20_D', 'Momentum5', 'Momentum10', 'Vol_Ret5', 'Vol_Ret10', 'Vol_Ret20', 'Vol_MA5', 'Vol_MA10']\n",
      "原始資料有 1201726 列，清理後剩 1102008 列\n",
      "Return1          0.0\n",
      "Ichimoku_Conv    0.0\n",
      "RollMaxH10       0.0\n",
      "RollMinL5        0.0\n",
      "RollMaxH5        0.0\n",
      "                ... \n",
      "DC_HBand         0.0\n",
      "DC_LBand         0.0\n",
      "ATR14            0.0\n",
      "ATR28            0.0\n",
      "Vol_MA10         0.0\n",
      "Length: 70, dtype: float64\n"
     ]
    }
   ],
   "source": [
    "\n",
    "base_cols = [\n",
    "    \"Date\", \"Open\", \"High\", \"Low\", \"Close\",\n",
    "    \"Volume\", \"Dividends\", \"Stock Splits\", \"Ticker\"\n",
    "]\n",
    "\n",
    "# 2. 其餘的就都當作是指標欄位\n",
    "indicator_cols = [col for col in df.columns if col not in base_cols]\n",
    "\n",
    "print(\"偵測到的指標欄位：\", indicator_cols)\n",
    "\n",
    "# 3. 用 dropna，只針對這些指標欄位，how=\"all\" 表示「如果這一列在所有指標欄位都是 NaN，就丟掉」\n",
    "df_clean = df.dropna(subset=indicator_cols, how=\"any\")\n",
    "\n",
    "print(f\"原始資料有 {len(df)} 列，清理後剩 {len(df_clean)} 列\")\n",
    "\n",
    "# （可選）檢查看還剩不剩少量遺漏值\n",
    "print(df_clean[indicator_cols].isna().mean().sort_values(ascending=False))"
   ]
  },
  {
   "cell_type": "code",
   "execution_count": 23,
   "metadata": {},
   "outputs": [
    {
     "data": {
      "text/plain": [
       "(1102008, 79)"
      ]
     },
     "execution_count": 23,
     "metadata": {},
     "output_type": "execute_result"
    }
   ],
   "source": [
    "df_clean.shape"
   ]
  },
  {
   "cell_type": "markdown",
   "metadata": {},
   "source": [
    "### Delete 8.29% data"
   ]
  },
  {
   "cell_type": "code",
   "execution_count": 24,
   "metadata": {},
   "outputs": [
    {
     "data": {
      "text/html": [
       "<div>\n",
       "<style scoped>\n",
       "    .dataframe tbody tr th:only-of-type {\n",
       "        vertical-align: middle;\n",
       "    }\n",
       "\n",
       "    .dataframe tbody tr th {\n",
       "        vertical-align: top;\n",
       "    }\n",
       "\n",
       "    .dataframe thead th {\n",
       "        text-align: right;\n",
       "    }\n",
       "</style>\n",
       "<table border=\"1\" class=\"dataframe\">\n",
       "  <thead>\n",
       "    <tr style=\"text-align: right;\">\n",
       "      <th></th>\n",
       "      <th>Date</th>\n",
       "      <th>Open</th>\n",
       "      <th>High</th>\n",
       "      <th>Low</th>\n",
       "      <th>Close</th>\n",
       "      <th>Volume</th>\n",
       "      <th>Dividends</th>\n",
       "      <th>Stock Splits</th>\n",
       "      <th>Ticker</th>\n",
       "      <th>Return1</th>\n",
       "      <th>...</th>\n",
       "      <th>Drawdown20</th>\n",
       "      <th>ZScore10</th>\n",
       "      <th>SMA5_20_D</th>\n",
       "      <th>Momentum5</th>\n",
       "      <th>Momentum10</th>\n",
       "      <th>Vol_Ret5</th>\n",
       "      <th>Vol_Ret10</th>\n",
       "      <th>Vol_Ret20</th>\n",
       "      <th>Vol_MA5</th>\n",
       "      <th>Vol_MA10</th>\n",
       "    </tr>\n",
       "  </thead>\n",
       "  <tbody>\n",
       "    <tr>\n",
       "      <th>89756</th>\n",
       "      <td>2020-09-16 00:00:00-04:00</td>\n",
       "      <td>98.074359</td>\n",
       "      <td>98.365003</td>\n",
       "      <td>95.022553</td>\n",
       "      <td>96.805191</td>\n",
       "      <td>1365000</td>\n",
       "      <td>0.0</td>\n",
       "      <td>0.0</td>\n",
       "      <td>A</td>\n",
       "      <td>-0.004483</td>\n",
       "      <td>...</td>\n",
       "      <td>-0.080062</td>\n",
       "      <td>0.423359</td>\n",
       "      <td>0.382684</td>\n",
       "      <td>0.020321</td>\n",
       "      <td>-0.011867</td>\n",
       "      <td>0.005948</td>\n",
       "      <td>0.021147</td>\n",
       "      <td>0.015243</td>\n",
       "      <td>1385660.0</td>\n",
       "      <td>1431750.0</td>\n",
       "    </tr>\n",
       "    <tr>\n",
       "      <th>89757</th>\n",
       "      <td>2020-09-16 00:00:00-04:00</td>\n",
       "      <td>13.423161</td>\n",
       "      <td>13.577450</td>\n",
       "      <td>13.215835</td>\n",
       "      <td>13.403874</td>\n",
       "      <td>5583300</td>\n",
       "      <td>0.0</td>\n",
       "      <td>0.0</td>\n",
       "      <td>AA</td>\n",
       "      <td>0.008708</td>\n",
       "      <td>...</td>\n",
       "      <td>-0.099935</td>\n",
       "      <td>-0.755348</td>\n",
       "      <td>-0.634997</td>\n",
       "      <td>-0.014185</td>\n",
       "      <td>-0.078860</td>\n",
       "      <td>0.017018</td>\n",
       "      <td>0.016956</td>\n",
       "      <td>0.023000</td>\n",
       "      <td>4408840.0</td>\n",
       "      <td>4358180.0</td>\n",
       "    </tr>\n",
       "    <tr>\n",
       "      <th>89758</th>\n",
       "      <td>2020-09-16 00:00:00-04:00</td>\n",
       "      <td>13.210000</td>\n",
       "      <td>13.960000</td>\n",
       "      <td>12.980000</td>\n",
       "      <td>13.800000</td>\n",
       "      <td>75200100</td>\n",
       "      <td>0.0</td>\n",
       "      <td>0.0</td>\n",
       "      <td>AAL</td>\n",
       "      <td>0.050228</td>\n",
       "      <td>...</td>\n",
       "      <td>-0.118841</td>\n",
       "      <td>1.707258</td>\n",
       "      <td>0.093500</td>\n",
       "      <td>0.057471</td>\n",
       "      <td>0.053435</td>\n",
       "      <td>0.025242</td>\n",
       "      <td>0.024189</td>\n",
       "      <td>0.033969</td>\n",
       "      <td>50050660.0</td>\n",
       "      <td>61224690.0</td>\n",
       "    </tr>\n",
       "    <tr>\n",
       "      <th>89759</th>\n",
       "      <td>2020-09-16 00:00:00-04:00</td>\n",
       "      <td>37.456000</td>\n",
       "      <td>38.047958</td>\n",
       "      <td>37.345417</td>\n",
       "      <td>37.625134</td>\n",
       "      <td>305700</td>\n",
       "      <td>0.0</td>\n",
       "      <td>0.0</td>\n",
       "      <td>AAON</td>\n",
       "      <td>0.007666</td>\n",
       "      <td>...</td>\n",
       "      <td>-0.066756</td>\n",
       "      <td>1.406420</td>\n",
       "      <td>-0.334034</td>\n",
       "      <td>0.039540</td>\n",
       "      <td>0.012251</td>\n",
       "      <td>0.003687</td>\n",
       "      <td>0.010729</td>\n",
       "      <td>0.008754</td>\n",
       "      <td>325530.0</td>\n",
       "      <td>280395.0</td>\n",
       "    </tr>\n",
       "    <tr>\n",
       "      <th>89760</th>\n",
       "      <td>2020-09-16 00:00:00-04:00</td>\n",
       "      <td>112.360634</td>\n",
       "      <td>113.111457</td>\n",
       "      <td>109.250067</td>\n",
       "      <td>109.337822</td>\n",
       "      <td>154679000</td>\n",
       "      <td>0.0</td>\n",
       "      <td>0.0</td>\n",
       "      <td>AAPL</td>\n",
       "      <td>-0.029513</td>\n",
       "      <td>...</td>\n",
       "      <td>-0.165300</td>\n",
       "      <td>-0.847044</td>\n",
       "      <td>-7.138451</td>\n",
       "      <td>-0.044238</td>\n",
       "      <td>-0.164331</td>\n",
       "      <td>0.025638</td>\n",
       "      <td>0.038061</td>\n",
       "      <td>0.034320</td>\n",
       "      <td>168521160.0</td>\n",
       "      <td>204123870.0</td>\n",
       "    </tr>\n",
       "  </tbody>\n",
       "</table>\n",
       "<p>5 rows × 79 columns</p>\n",
       "</div>"
      ],
      "text/plain": [
       "                            Date        Open        High         Low  \\\n",
       "89756  2020-09-16 00:00:00-04:00   98.074359   98.365003   95.022553   \n",
       "89757  2020-09-16 00:00:00-04:00   13.423161   13.577450   13.215835   \n",
       "89758  2020-09-16 00:00:00-04:00   13.210000   13.960000   12.980000   \n",
       "89759  2020-09-16 00:00:00-04:00   37.456000   38.047958   37.345417   \n",
       "89760  2020-09-16 00:00:00-04:00  112.360634  113.111457  109.250067   \n",
       "\n",
       "            Close     Volume  Dividends  Stock Splits Ticker   Return1  ...  \\\n",
       "89756   96.805191    1365000        0.0           0.0      A -0.004483  ...   \n",
       "89757   13.403874    5583300        0.0           0.0     AA  0.008708  ...   \n",
       "89758   13.800000   75200100        0.0           0.0    AAL  0.050228  ...   \n",
       "89759   37.625134     305700        0.0           0.0   AAON  0.007666  ...   \n",
       "89760  109.337822  154679000        0.0           0.0   AAPL -0.029513  ...   \n",
       "\n",
       "       Drawdown20  ZScore10  SMA5_20_D  Momentum5  Momentum10  Vol_Ret5  \\\n",
       "89756   -0.080062  0.423359   0.382684   0.020321   -0.011867  0.005948   \n",
       "89757   -0.099935 -0.755348  -0.634997  -0.014185   -0.078860  0.017018   \n",
       "89758   -0.118841  1.707258   0.093500   0.057471    0.053435  0.025242   \n",
       "89759   -0.066756  1.406420  -0.334034   0.039540    0.012251  0.003687   \n",
       "89760   -0.165300 -0.847044  -7.138451  -0.044238   -0.164331  0.025638   \n",
       "\n",
       "       Vol_Ret10  Vol_Ret20      Vol_MA5     Vol_MA10  \n",
       "89756   0.021147   0.015243    1385660.0    1431750.0  \n",
       "89757   0.016956   0.023000    4408840.0    4358180.0  \n",
       "89758   0.024189   0.033969   50050660.0   61224690.0  \n",
       "89759   0.010729   0.008754     325530.0     280395.0  \n",
       "89760   0.038061   0.034320  168521160.0  204123870.0  \n",
       "\n",
       "[5 rows x 79 columns]"
      ]
     },
     "execution_count": 24,
     "metadata": {},
     "output_type": "execute_result"
    }
   ],
   "source": [
    "df_clean.head()"
   ]
  },
  {
   "cell_type": "code",
   "execution_count": 27,
   "metadata": {},
   "outputs": [
    {
     "name": "stdout",
     "output_type": "stream",
     "text": [
      "['Date', 'Open', 'High', 'Low', 'Close', 'Volume', 'Dividends', 'Stock Splits', 'Ticker', 'Return1', 'Gap', 'HL_Range', 'OC_Return', 'SMA5', 'EMA5', 'SMA10', 'EMA10', 'SMA20', 'EMA20', 'SMA50', 'EMA50', 'SMA100', 'EMA100', 'MACD', 'MACD_Signal', 'MACD_Diff', 'RSI14', 'ROC5', 'ROC10', 'ROC20', 'StochK', 'StochD', 'WilliamsR14', 'BB_HBand', 'BB_LBand', 'BB_Width', 'KC_HBand', 'KC_LBand', 'DC_HBand', 'DC_LBand', 'ATR14', 'ATR28', 'CCI20', 'ADX14', 'MassIndex', 'UltimateOsc', 'CMO14', 'OBV', 'AccDistIdx', 'ChaikinMF20', 'ForceIdx1', 'EaseOfMov14', 'VWAP14', 'Ichimoku_Conv', 'Ichimoku_Base', 'Vortex_pos', 'Vortex_neg', 'RollMaxH5', 'RollMinL5', 'RollMaxH10', 'RollMinL10', 'RollMaxH20', 'RollMinL20', 'RollMaxH50', 'RollMinL50', 'Autocorr1', 'Skew10', 'Kurt10', 'Sharpe10', 'Drawdown20', 'ZScore10', 'SMA5_20_D', 'Momentum5', 'Momentum10', 'Vol_Ret5', 'Vol_Ret10', 'Vol_Ret20', 'Vol_MA5', 'Vol_MA10']\n"
     ]
    }
   ],
   "source": [
    "print(df.columns.tolist())"
   ]
  },
  {
   "cell_type": "code",
   "execution_count": 29,
   "metadata": {},
   "outputs": [
    {
     "data": {
      "text/plain": [
       "0"
      ]
     },
     "execution_count": 29,
     "metadata": {},
     "output_type": "execute_result"
    }
   ],
   "source": [
    "df_clean.isna().sum().sum()"
   ]
  },
  {
   "cell_type": "code",
   "execution_count": 32,
   "metadata": {},
   "outputs": [],
   "source": [
    "# 0. 假設你已經有一個 df_clean，裡面包含所有原始欄位 + 之前算好的各種指標\n",
    "\n",
    "# 1. 先把資料按照 Ticker + Date 排序、重設 index\n",
    "df_clean = (\n",
    "    df_clean\n",
    "    .sort_values([\"Ticker\", \"Date\"])\n",
    "    .reset_index(drop=True)\n",
    ")\n",
    "\n",
    "# 2. 計算「同一隻股票」的 next‐day close\n",
    "#    用 groupby + shift(-1)，確保不會把 AAPL 的最後一天 shift 到 MSFT\n",
    "df_clean[\"Close_next\"] = (\n",
    "    df_clean\n",
    "    .groupby(\"Ticker\")[\"Close\"]\n",
    "    .shift(-1)\n",
    ")\n",
    "\n",
    "# 3. 產生二元目標：明天收盤價是否高於今天？\n",
    "df_clean[\"Target\"] = (df_clean[\"Close_next\"] > df_clean[\"Close\"]).astype(int)\n",
    "\n",
    "# 4. 把因為 shift 而變成 NaN 的那些「每隻股票最後一天」刪掉\n",
    "df_clean = df_clean.dropna(subset=[\"Target\"])\n",
    "\n",
    "# 5. 定義 features 欄位：排除你不想用的欄位\n",
    "exclude = [\n",
    "    \"Date\", \"Ticker\", \"Close_next\", \"Target\",\n",
    "    # 以下是原始價格欄，也不當 feature\n",
    "    \"Open\", \"High\", \"Low\", \"Close\", \"Volume\"\n",
    "]\n",
    "feature_cols = [c for c in df_clean.columns if c not in exclude]\n",
    "\n",
    "# 6. 示範：把每隻股票拆出來，各用它本身的資料做 X, y\n",
    "X_by_ticker = {}\n",
    "y_by_ticker = {}\n",
    "for tkr, group in df_clean.groupby(\"Ticker\"):\n",
    "    X_by_ticker[tkr] = group[feature_cols]\n",
    "    y_by_ticker[tkr] = group[\"Target\"]\n",
    "\n",
    "# 7. （以 AAPL 為例）你可以這樣取出 AAPL 的訓練資料：\n",
    "X_AAPL = X_by_ticker[\"AAPL\"]\n",
    "y_AAPL = y_by_ticker[\"AAPL\"]\n",
    "\n",
    "# 8. 如果你只想做一個統一模型，也可以直接：\n",
    "X = df_clean[feature_cols]\n",
    "y = df_clean[\"Target\"]\n",
    "\n",
    "# 現在就可以把 X, y 傳給 scikit‐learn 或其他模型去訓練了"
   ]
  },
  {
   "cell_type": "code",
   "execution_count": null,
   "metadata": {},
   "outputs": [
    {
     "name": "stdout",
     "output_type": "stream",
     "text": [
      "RF Test Accuracy: 0.5078475579689695\n",
      "RF Top 15 features:\n",
      " Gap            0.021870\n",
      "MassIndex      0.021692\n",
      "Autocorr1      0.021507\n",
      "UltimateOsc    0.020998\n",
      "ChaikinMF20    0.020828\n",
      "Skew10         0.020588\n",
      "Kurt10         0.020501\n",
      "HL_Range       0.020304\n",
      "Vol_Ret5       0.019937\n",
      "ADX14          0.019896\n",
      "OC_Return      0.019849\n",
      "Vortex_neg     0.019750\n",
      "Vortex_pos     0.019701\n",
      "ZScore10       0.019625\n",
      "AccDistIdx     0.019584\n",
      "dtype: float64\n"
     ]
    },
    {
     "data": {
      "image/png": "[encoded data removed]",
      "text/plain": [
       "<Figure size 600x400 with 1 Axes>"
      ]
     },
     "metadata": {},
     "output_type": "display_data"
    }
   ],
   "source": [
    "import matplotlib.pyplot as plt\n",
    "from sklearn.metrics import accuracy_score\n",
    "from sklearn.ensemble import RandomForestClassifier\n",
    "from sklearn.linear_model import LogisticRegression\n",
    "from sklearn.model_selection import TimeSeriesSplit, cross_val_score\n",
    "import matplotlib.pyplot as plt\n",
    "\n",
    "\n",
    "\n",
    "# 0. 假设 df_clean 已经是前面处理好：按 ticker+date 排序、加上 Target\n",
    "#    并且 feature_cols 列出了所有你想尝试的技术指标\n",
    "\n",
    "# 1. 按日期切训练/测试\n",
    "#    比如：2024-01-01 以前当训练，之后当测试\n",
    "split_date = \"2024-01-01\"\n",
    "train_mask = df_clean[\"Date\"] < split_date\n",
    "X_train, y_train = df_clean.loc[train_mask, feature_cols], df_clean.loc[train_mask, \"Target\"]\n",
    "X_test,  y_test  = df_clean.loc[~train_mask, feature_cols], df_clean.loc[~train_mask, \"Target\"]\n",
    "\n",
    "# 2. 随机森林模型\n",
    "rf = RandomForestClassifier(n_estimators=200, random_state=42, n_jobs=-1)\n",
    "rf.fit(X_train, y_train)\n",
    "\n",
    "# 3. 测试集表现\n",
    "y_pred = rf.predict(X_test)\n",
    "print(\"RF Test Accuracy:\", accuracy_score(y_test, y_pred))\n",
    "\n",
    "# 4. 特征重要度（降序）\n",
    "imp_rf = pd.Series(rf.feature_importances_, index=feature_cols).sort_values(ascending=False)\n",
    "print(\"RF Top 15 features:\\n\", imp_rf.head(15))\n",
    "\n",
    "# 5. 可视化前 15\n",
    "plt.figure(figsize=(6,4))\n",
    "imp_rf.head(15).plot.barh()\n",
    "plt.gca().invert_yaxis()\n",
    "plt.title(\"RandomForest Feature Importances\")\n",
    "plt.show()\n",
    "\n",
    "# ——可选：带 L1 正则的逻辑回归，稀疏化特征——\n",
    "lr = LogisticRegression(penalty=\"l1\", solver=\"saga\", C=1.0, max_iter=5000, n_jobs=-1)\n",
    "lr.fit(X_train, y_train)\n",
    "coef_abs = pd.Series(np.abs(lr.coef_[0]), index=feature_cols).sort_values(ascending=False)\n",
    "print(\"LR Top 15 features:\\n\", coef_abs.head(15))\n",
    "\n",
    "# ——时间序列交叉验证看整体稳定性——\n",
    "tscv = TimeSeriesSplit(n_splits=5)\n",
    "cv_scores = cross_val_score(rf, df_clean[feature_cols], df_clean[\"Target\"],\n",
    "                            cv=tscv, scoring=\"accuracy\", n_jobs=-1)\n",
    "print(\"RF TimeSeries CV Accuracy:\", cv_scores, \"mean=\", cv_scores.mean())"
   ]
  },
  {
   "cell_type": "code",
   "execution_count": null,
   "metadata": {},
   "outputs": [],
   "source": []
  }
 ],
 "metadata": {
  "kernelspec": {
   "display_name": "base",
   "language": "python",
   "name": "python3"
  },
  "language_info": {
   "codemirror_mode": {
    "name": "ipython",
    "version": 3
   },
   "file_extension": ".py",
   "mimetype": "text/x-python",
   "name": "python",
   "nbconvert_exporter": "python",
   "pygments_lexer": "ipython3",
   "version": "3.12.7"
  }
 },
 "nbformat": 4,
 "nbformat_minor": 2
}
