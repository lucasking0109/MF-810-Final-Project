{
 "cells": [
  {
   "cell_type": "markdown",
   "id": "6b6d55c6-c3c1-4f35-952b-162664c95452",
   "metadata": {},
   "source": [
    "# Part 1. Data Clean"
   ]
  },
  {
   "cell_type": "markdown",
   "id": "41d18715-b361-426a-b069-f29e1c85e68b",
   "metadata": {},
   "source": [
    "### Data is coming from around 400 stocks of miniute-level information from 2023/4/1 to 2025/4/1."
   ]
  },
  {
   "cell_type": "markdown",
   "id": "01c5f11f-3996-48ea-9463-577bc5b0138c",
   "metadata": {},
   "source": [
    "### Check the exact numbers of csv files we have "
   ]
  },
  {
   "cell_type": "code",
   "execution_count": 1,
   "id": "abadf73a-40ee-4823-a543-5401e36ecff4",
   "metadata": {},
   "outputs": [
    {
     "name": "stdout",
     "output_type": "stream",
     "text": [
      "Total csv files: 429\n"
     ]
    }
   ],
   "source": [
    "import os\n",
    "files = os.listdir(r'C:\\Users\\Username\\OneDrive\\Desktop\\810project')\n",
    "print(f\"Total csv files: {len([f for f in files if f.endswith('.csv')])}\")"
   ]
  },
  {
   "cell_type": "markdown",
   "id": "a76dbc96-28fa-48fe-9904-ed6b261e04d1",
   "metadata": {},
   "source": [
    "### Merge all csv to one for the convenience of following processes"
   ]
  },
  {
   "cell_type": "code",
   "execution_count": null,
   "id": "d1554c0c-63b6-483e-a46c-9f07ee7b1765",
   "metadata": {},
   "outputs": [],
   "source": [
    "import pandas as pd\n",
    "\n",
    "path = r'C:\\Users\\Username\\OneDrive\\Desktop\\810project'\n",
    "csv_files = [f for f in os.listdir(path) if f.endswith(\".csv\")]\n",
    "\n",
    "all_data = []\n",
    "for file in csv_files:\n",
    "    df = pd.read_csv(os.path.join(path, file))\n",
    "    ticker = file.replace(\".csv\", \"\")\n",
    "    df[\"ticker\"] = ticker\n",
    "    all_data.append(df)\n",
    "\n",
    "merged_df = pd.concat(all_data, ignore_index=True)\n",
    "merged_df.to_csv(r'C:\\Users\\Username\\OneDrive\\Desktop\\810project\\merged_raw.csv', index=False)"
   ]
  },
  {
   "cell_type": "markdown",
   "id": "08c52d0b-5ec8-45e0-877b-70da92d05167",
   "metadata": {},
   "source": [
    "### Too slow, transfrom to Parquet to improve efficiency"
   ]
  },
  {
   "cell_type": "code",
   "execution_count": 3,
   "id": "d0d56514-056a-41c7-a6a7-6d4df94e5bb1",
   "metadata": {},
   "outputs": [],
   "source": [
    "merged_df.to_parquet(r'C:\\Users\\Username\\OneDrive\\Desktop\\810project\\merged_raw.parquet', index=False)\n",
    "\n",
    "df_par = pd.read_parquet(r'C:\\Users\\Username\\OneDrive\\Desktop\\810project\\merged_raw.parquet')"
   ]
  },
  {
   "cell_type": "markdown",
   "id": "b1cedc45-836b-4318-b256-dfdef23dcc31",
   "metadata": {},
   "source": [
    "### 这里上交之前记得删了 人为制造missing value"
   ]
  },
  {
   "cell_type": "code",
   "execution_count": null,
   "id": "c8e2340b-1978-4237-9ebb-f5c0abf519ad",
   "metadata": {},
   "outputs": [],
   "source": [
    "import numpy as np\n",
    "\n",
    "np.random.seed(42)\n",
    "\n",
    "# 想引入缺失的列范围（你也可以包含't' 或 'n'）\n",
    "target_cols = ['o', 'h', 'l', 'c', 'v', 'vw']\n",
    "row_indices = df_par.sample(frac=0.1).index  # 1% 的行\n",
    "\n",
    "for idx in row_indices:\n",
    "    n_missing = np.random.randint(1, 4)  # 每行随机1~3个列置为空\n",
    "    cols_to_null = np.random.choice(target_cols, size=n_missing, replace=False)\n",
    "    df_par.loc[idx, cols_to_null] = np.nan\n"
   ]
  },
  {
   "cell_type": "code",
   "execution_count": null,
   "id": "db4128ff-1606-45b0-9a16-2feeed5a8a1c",
   "metadata": {},
   "outputs": [],
   "source": [
    "df_par.to_parquet(r'C:\\Users\\Username\\OneDrive\\Desktop\\810project\\mermiss_raw.parquet')\n"
   ]
  },
  {
   "cell_type": "code",
   "execution_count": 4,
   "id": "6a4bd94f-e3a8-430f-84af-c1bb34c854d6",
   "metadata": {},
   "outputs": [],
   "source": [
    "import pandas as pd\n",
    "df_par = pd.read_parquet(r'C:\\Users\\Username\\OneDrive\\Desktop\\810project\\mermiss_raw.parquet')"
   ]
  },
  {
   "cell_type": "markdown",
   "id": "3066a0bc-764e-44cf-9e05-6a712ab17d88",
   "metadata": {},
   "source": [
    "### Simply view the data"
   ]
  },
  {
   "cell_type": "code",
   "execution_count": 11,
   "id": "9c6cecb2-21a3-4467-97ac-6cbc4f030e7e",
   "metadata": {},
   "outputs": [
    {
     "data": {
      "text/plain": [
       "(168836922, 10)"
      ]
     },
     "execution_count": 11,
     "metadata": {},
     "output_type": "execute_result"
    }
   ],
   "source": [
    "df_par.shape"
   ]
  },
  {
   "cell_type": "code",
   "execution_count": 12,
   "id": "ef2a42b9-558b-4051-80ee-e8748b686caa",
   "metadata": {},
   "outputs": [
    {
     "data": {
      "text/html": [
       "<div>\n",
       "<style scoped>\n",
       "    .dataframe tbody tr th:only-of-type {\n",
       "        vertical-align: middle;\n",
       "    }\n",
       "\n",
       "    .dataframe tbody tr th {\n",
       "        vertical-align: top;\n",
       "    }\n",
       "\n",
       "    .dataframe thead th {\n",
       "        text-align: right;\n",
       "    }\n",
       "</style>\n",
       "<table border=\"1\" class=\"dataframe\">\n",
       "  <thead>\n",
       "    <tr style=\"text-align: right;\">\n",
       "      <th></th>\n",
       "      <th>v</th>\n",
       "      <th>vw</th>\n",
       "      <th>o</th>\n",
       "      <th>c</th>\n",
       "      <th>h</th>\n",
       "      <th>l</th>\n",
       "      <th>t</th>\n",
       "      <th>n</th>\n",
       "      <th>datetime</th>\n",
       "      <th>ticker</th>\n",
       "    </tr>\n",
       "  </thead>\n",
       "  <tbody>\n",
       "    <tr>\n",
       "      <th>0</th>\n",
       "      <td>17632.0</td>\n",
       "      <td>137.0174</td>\n",
       "      <td>137.420</td>\n",
       "      <td>137.2600</td>\n",
       "      <td>137.565</td>\n",
       "      <td>136.85</td>\n",
       "      <td>1680528600000</td>\n",
       "      <td>105</td>\n",
       "      <td>2023-04-03 13:30:00</td>\n",
       "      <td>A</td>\n",
       "    </tr>\n",
       "    <tr>\n",
       "      <th>1</th>\n",
       "      <td>1011.0</td>\n",
       "      <td>137.2530</td>\n",
       "      <td>137.255</td>\n",
       "      <td>137.3200</td>\n",
       "      <td>137.320</td>\n",
       "      <td>137.25</td>\n",
       "      <td>1680528660000</td>\n",
       "      <td>28</td>\n",
       "      <td>2023-04-03 13:31:00</td>\n",
       "      <td>A</td>\n",
       "    </tr>\n",
       "    <tr>\n",
       "      <th>2</th>\n",
       "      <td>697.0</td>\n",
       "      <td>137.2364</td>\n",
       "      <td>137.220</td>\n",
       "      <td>137.3300</td>\n",
       "      <td>137.330</td>\n",
       "      <td>136.95</td>\n",
       "      <td>1680528720000</td>\n",
       "      <td>18</td>\n",
       "      <td>2023-04-03 13:32:00</td>\n",
       "      <td>A</td>\n",
       "    </tr>\n",
       "    <tr>\n",
       "      <th>3</th>\n",
       "      <td>4004.0</td>\n",
       "      <td>137.3055</td>\n",
       "      <td>136.990</td>\n",
       "      <td>137.5700</td>\n",
       "      <td>137.570</td>\n",
       "      <td>136.99</td>\n",
       "      <td>1680528780000</td>\n",
       "      <td>79</td>\n",
       "      <td>2023-04-03 13:33:00</td>\n",
       "      <td>A</td>\n",
       "    </tr>\n",
       "    <tr>\n",
       "      <th>4</th>\n",
       "      <td>7244.0</td>\n",
       "      <td>137.4399</td>\n",
       "      <td>137.690</td>\n",
       "      <td>137.3784</td>\n",
       "      <td>137.720</td>\n",
       "      <td>137.11</td>\n",
       "      <td>1680528840000</td>\n",
       "      <td>107</td>\n",
       "      <td>2023-04-03 13:34:00</td>\n",
       "      <td>A</td>\n",
       "    </tr>\n",
       "    <tr>\n",
       "      <th>5</th>\n",
       "      <td>2483.0</td>\n",
       "      <td>136.7879</td>\n",
       "      <td>137.215</td>\n",
       "      <td>136.6100</td>\n",
       "      <td>137.215</td>\n",
       "      <td>136.61</td>\n",
       "      <td>1680528900000</td>\n",
       "      <td>74</td>\n",
       "      <td>2023-04-03 13:35:00</td>\n",
       "      <td>A</td>\n",
       "    </tr>\n",
       "    <tr>\n",
       "      <th>6</th>\n",
       "      <td>4375.0</td>\n",
       "      <td>136.4643</td>\n",
       "      <td>136.530</td>\n",
       "      <td>136.7150</td>\n",
       "      <td>136.715</td>\n",
       "      <td>136.34</td>\n",
       "      <td>1680528960000</td>\n",
       "      <td>72</td>\n",
       "      <td>2023-04-03 13:36:00</td>\n",
       "      <td>A</td>\n",
       "    </tr>\n",
       "    <tr>\n",
       "      <th>7</th>\n",
       "      <td>4552.0</td>\n",
       "      <td>136.6168</td>\n",
       "      <td>136.670</td>\n",
       "      <td>136.4700</td>\n",
       "      <td>136.870</td>\n",
       "      <td>136.28</td>\n",
       "      <td>1680529020000</td>\n",
       "      <td>80</td>\n",
       "      <td>2023-04-03 13:37:00</td>\n",
       "      <td>A</td>\n",
       "    </tr>\n",
       "    <tr>\n",
       "      <th>8</th>\n",
       "      <td>1157.0</td>\n",
       "      <td>136.4493</td>\n",
       "      <td>136.320</td>\n",
       "      <td>136.4450</td>\n",
       "      <td>136.465</td>\n",
       "      <td>136.32</td>\n",
       "      <td>1680529080000</td>\n",
       "      <td>13</td>\n",
       "      <td>2023-04-03 13:38:00</td>\n",
       "      <td>A</td>\n",
       "    </tr>\n",
       "    <tr>\n",
       "      <th>9</th>\n",
       "      <td>4688.0</td>\n",
       "      <td>136.6723</td>\n",
       "      <td>136.580</td>\n",
       "      <td>136.9800</td>\n",
       "      <td>136.980</td>\n",
       "      <td>136.55</td>\n",
       "      <td>1680529140000</td>\n",
       "      <td>71</td>\n",
       "      <td>2023-04-03 13:39:00</td>\n",
       "      <td>A</td>\n",
       "    </tr>\n",
       "  </tbody>\n",
       "</table>\n",
       "</div>"
      ],
      "text/plain": [
       "         v        vw        o         c        h       l              t    n  \\\n",
       "0  17632.0  137.0174  137.420  137.2600  137.565  136.85  1680528600000  105   \n",
       "1   1011.0  137.2530  137.255  137.3200  137.320  137.25  1680528660000   28   \n",
       "2    697.0  137.2364  137.220  137.3300  137.330  136.95  1680528720000   18   \n",
       "3   4004.0  137.3055  136.990  137.5700  137.570  136.99  1680528780000   79   \n",
       "4   7244.0  137.4399  137.690  137.3784  137.720  137.11  1680528840000  107   \n",
       "5   2483.0  136.7879  137.215  136.6100  137.215  136.61  1680528900000   74   \n",
       "6   4375.0  136.4643  136.530  136.7150  136.715  136.34  1680528960000   72   \n",
       "7   4552.0  136.6168  136.670  136.4700  136.870  136.28  1680529020000   80   \n",
       "8   1157.0  136.4493  136.320  136.4450  136.465  136.32  1680529080000   13   \n",
       "9   4688.0  136.6723  136.580  136.9800  136.980  136.55  1680529140000   71   \n",
       "\n",
       "              datetime ticker  \n",
       "0  2023-04-03 13:30:00      A  \n",
       "1  2023-04-03 13:31:00      A  \n",
       "2  2023-04-03 13:32:00      A  \n",
       "3  2023-04-03 13:33:00      A  \n",
       "4  2023-04-03 13:34:00      A  \n",
       "5  2023-04-03 13:35:00      A  \n",
       "6  2023-04-03 13:36:00      A  \n",
       "7  2023-04-03 13:37:00      A  \n",
       "8  2023-04-03 13:38:00      A  \n",
       "9  2023-04-03 13:39:00      A  "
      ]
     },
     "execution_count": 12,
     "metadata": {},
     "output_type": "execute_result"
    }
   ],
   "source": [
    "df_par.head(10)"
   ]
  },
  {
   "cell_type": "code",
   "execution_count": 13,
   "id": "c5307cd1-fab7-4610-80f9-f49f2a372901",
   "metadata": {},
   "outputs": [
    {
     "name": "stdout",
     "output_type": "stream",
     "text": [
      "<class 'pandas.core.frame.DataFrame'>\n",
      "RangeIndex: 168836922 entries, 0 to 168836921\n",
      "Data columns (total 10 columns):\n",
      " #   Column    Dtype  \n",
      "---  ------    -----  \n",
      " 0   v         float64\n",
      " 1   vw        float64\n",
      " 2   o         float64\n",
      " 3   c         float64\n",
      " 4   h         float64\n",
      " 5   l         float64\n",
      " 6   t         int64  \n",
      " 7   n         int64  \n",
      " 8   datetime  object \n",
      " 9   ticker    object \n",
      "dtypes: float64(6), int64(2), object(2)\n",
      "memory usage: 12.6+ GB\n"
     ]
    }
   ],
   "source": [
    "df_par.info()"
   ]
  },
  {
   "cell_type": "code",
   "execution_count": 14,
   "id": "d2d8faa8-c138-4bd2-a11f-6a7010438a59",
   "metadata": {},
   "outputs": [
    {
     "data": {
      "text/plain": [
       "v           209\n",
       "vw          190\n",
       "o           218\n",
       "c           198\n",
       "h           216\n",
       "l           219\n",
       "t             0\n",
       "n             0\n",
       "datetime      0\n",
       "ticker        0\n",
       "dtype: int64"
      ]
     },
     "execution_count": 14,
     "metadata": {},
     "output_type": "execute_result"
    }
   ],
   "source": [
    "df_par.isna().sum()"
   ]
  },
  {
   "cell_type": "markdown",
   "id": "f9904900-9ec0-498d-81bc-abcdd598a13e",
   "metadata": {},
   "source": [
    "### Rename the columns name for better viewing"
   ]
  },
  {
   "cell_type": "code",
   "execution_count": 15,
   "id": "295bcaf6-b68b-4b98-95f0-cae117b63fc7",
   "metadata": {},
   "outputs": [
    {
     "data": {
      "text/html": [
       "<div>\n",
       "<style scoped>\n",
       "    .dataframe tbody tr th:only-of-type {\n",
       "        vertical-align: middle;\n",
       "    }\n",
       "\n",
       "    .dataframe tbody tr th {\n",
       "        vertical-align: top;\n",
       "    }\n",
       "\n",
       "    .dataframe thead th {\n",
       "        text-align: right;\n",
       "    }\n",
       "</style>\n",
       "<table border=\"1\" class=\"dataframe\">\n",
       "  <thead>\n",
       "    <tr style=\"text-align: right;\">\n",
       "      <th></th>\n",
       "      <th>volume</th>\n",
       "      <th>vwap</th>\n",
       "      <th>open</th>\n",
       "      <th>close</th>\n",
       "      <th>high</th>\n",
       "      <th>low</th>\n",
       "      <th>timestamp</th>\n",
       "      <th>transactions</th>\n",
       "      <th>datetime</th>\n",
       "      <th>ticker</th>\n",
       "    </tr>\n",
       "  </thead>\n",
       "  <tbody>\n",
       "    <tr>\n",
       "      <th>0</th>\n",
       "      <td>17632.0</td>\n",
       "      <td>137.0174</td>\n",
       "      <td>137.420</td>\n",
       "      <td>137.2600</td>\n",
       "      <td>137.565</td>\n",
       "      <td>136.85</td>\n",
       "      <td>1680528600000</td>\n",
       "      <td>105</td>\n",
       "      <td>2023-04-03 13:30:00</td>\n",
       "      <td>A</td>\n",
       "    </tr>\n",
       "    <tr>\n",
       "      <th>1</th>\n",
       "      <td>1011.0</td>\n",
       "      <td>137.2530</td>\n",
       "      <td>137.255</td>\n",
       "      <td>137.3200</td>\n",
       "      <td>137.320</td>\n",
       "      <td>137.25</td>\n",
       "      <td>1680528660000</td>\n",
       "      <td>28</td>\n",
       "      <td>2023-04-03 13:31:00</td>\n",
       "      <td>A</td>\n",
       "    </tr>\n",
       "    <tr>\n",
       "      <th>2</th>\n",
       "      <td>697.0</td>\n",
       "      <td>137.2364</td>\n",
       "      <td>137.220</td>\n",
       "      <td>137.3300</td>\n",
       "      <td>137.330</td>\n",
       "      <td>136.95</td>\n",
       "      <td>1680528720000</td>\n",
       "      <td>18</td>\n",
       "      <td>2023-04-03 13:32:00</td>\n",
       "      <td>A</td>\n",
       "    </tr>\n",
       "    <tr>\n",
       "      <th>3</th>\n",
       "      <td>4004.0</td>\n",
       "      <td>137.3055</td>\n",
       "      <td>136.990</td>\n",
       "      <td>137.5700</td>\n",
       "      <td>137.570</td>\n",
       "      <td>136.99</td>\n",
       "      <td>1680528780000</td>\n",
       "      <td>79</td>\n",
       "      <td>2023-04-03 13:33:00</td>\n",
       "      <td>A</td>\n",
       "    </tr>\n",
       "    <tr>\n",
       "      <th>4</th>\n",
       "      <td>7244.0</td>\n",
       "      <td>137.4399</td>\n",
       "      <td>137.690</td>\n",
       "      <td>137.3784</td>\n",
       "      <td>137.720</td>\n",
       "      <td>137.11</td>\n",
       "      <td>1680528840000</td>\n",
       "      <td>107</td>\n",
       "      <td>2023-04-03 13:34:00</td>\n",
       "      <td>A</td>\n",
       "    </tr>\n",
       "  </tbody>\n",
       "</table>\n",
       "</div>"
      ],
      "text/plain": [
       "    volume      vwap     open     close     high     low      timestamp  \\\n",
       "0  17632.0  137.0174  137.420  137.2600  137.565  136.85  1680528600000   \n",
       "1   1011.0  137.2530  137.255  137.3200  137.320  137.25  1680528660000   \n",
       "2    697.0  137.2364  137.220  137.3300  137.330  136.95  1680528720000   \n",
       "3   4004.0  137.3055  136.990  137.5700  137.570  136.99  1680528780000   \n",
       "4   7244.0  137.4399  137.690  137.3784  137.720  137.11  1680528840000   \n",
       "\n",
       "   transactions             datetime ticker  \n",
       "0           105  2023-04-03 13:30:00      A  \n",
       "1            28  2023-04-03 13:31:00      A  \n",
       "2            18  2023-04-03 13:32:00      A  \n",
       "3            79  2023-04-03 13:33:00      A  \n",
       "4           107  2023-04-03 13:34:00      A  "
      ]
     },
     "execution_count": 15,
     "metadata": {},
     "output_type": "execute_result"
    }
   ],
   "source": [
    "df_par = df_par.rename(columns={\n",
    "    'v': 'volume',\n",
    "    'vw': 'vwap',\n",
    "    'o': 'open',\n",
    "    'c': 'close',\n",
    "    'h': 'high',\n",
    "    'l': 'low',\n",
    "    't': 'timestamp',\n",
    "    'n': 'transactions'\n",
    "})\n",
    "df_par.head()"
   ]
  },
  {
   "cell_type": "markdown",
   "id": "523948c0-be4a-45cc-a331-029dbc5b4f76",
   "metadata": {},
   "source": [
    "### We are starting to deal with the missing values"
   ]
  },
  {
   "cell_type": "markdown",
   "id": "1ac4ca0b-82f5-434a-ba8c-3db7dd6a3feb",
   "metadata": {},
   "source": [
    "### Since the data is min-level stock info, for the price columns, we use ffill to deal with\n",
    "### Starting as a quant, we need to ensure the truth of data, so just apply ffill"
   ]
  },
  {
   "cell_type": "code",
   "execution_count": 16,
   "id": "d2f81fef-f427-4d10-afe6-59d942358189",
   "metadata": {},
   "outputs": [
    {
     "data": {
      "text/plain": [
       "volume          209\n",
       "vwap            190\n",
       "open              0\n",
       "close             0\n",
       "high              0\n",
       "low               0\n",
       "timestamp         0\n",
       "transactions      0\n",
       "datetime          0\n",
       "ticker            0\n",
       "dtype: int64"
      ]
     },
     "execution_count": 16,
     "metadata": {},
     "output_type": "execute_result"
    }
   ],
   "source": [
    "# define the price cols \n",
    "price_cols = ['open', 'close', 'high', 'low']\n",
    "\n",
    "# use for loop to ffill\n",
    "for col in price_cols:\n",
    "    df_par[col] = df_par.groupby('ticker')[col].ffill()\n",
    "\n",
    "# check again the data\n",
    "df_par.isna().sum()"
   ]
  },
  {
   "cell_type": "markdown",
   "id": "1e3372b9-2ced-407e-bb8b-9b03c758e1ea",
   "metadata": {},
   "source": [
    "### For the volume, just fill 0 since it does not matter\n",
    "### For the volume weighted average price, we apply linear interpoate here"
   ]
  },
  {
   "cell_type": "code",
   "execution_count": 17,
   "id": "d8fc089c-1444-4c69-9ffb-8e16ff4e32c3",
   "metadata": {},
   "outputs": [
    {
     "data": {
      "text/plain": [
       "volume          0\n",
       "vwap            0\n",
       "open            0\n",
       "close           0\n",
       "high            0\n",
       "low             0\n",
       "timestamp       0\n",
       "transactions    0\n",
       "datetime        0\n",
       "ticker          0\n",
       "dtype: int64"
      ]
     },
     "execution_count": 17,
     "metadata": {},
     "output_type": "execute_result"
    }
   ],
   "source": [
    "df_par['volume'] = df_par['volume'].fillna(0)\n",
    "\n",
    "# the vwap need to interpolate in the same ticker\n",
    "df_par['vwap'] = df_par.groupby('ticker')['vwap'].transform(lambda group: group.interpolate(method='linear'))\n",
    "\n",
    "df_par.isna().sum()"
   ]
  },
  {
   "cell_type": "markdown",
   "id": "5f1c6c6c-54ad-424b-970e-cd84d14cddca",
   "metadata": {},
   "source": [
    "### Now the data seems good!"
   ]
  },
  {
   "cell_type": "markdown",
   "id": "031cae64-9552-4d37-8987-92cd9c423a08",
   "metadata": {},
   "source": [
    "### Save the clean df so that we do not need to clean again!"
   ]
  },
  {
   "cell_type": "code",
   "execution_count": 18,
   "id": "15cff042-bc34-420c-b04f-be6e1b8a6957",
   "metadata": {},
   "outputs": [],
   "source": [
    "df_par.to_parquet(r'C:\\Users\\Username\\OneDrive\\Desktop\\810project\\merged_cleaned.parquet', index=False)"
   ]
  },
  {
   "cell_type": "code",
   "execution_count": 5,
   "id": "b30f0113-aec0-48a7-ba48-ea99176793d5",
   "metadata": {},
   "outputs": [],
   "source": [
    "import pandas as pd\n",
    "df_par = pd.read_parquet(r'C:\\Users\\Username\\OneDrive\\Desktop\\810project\\merged_cleaned.parquet')"
   ]
  },
  {
   "cell_type": "markdown",
   "id": "b8ebffb1-6473-4913-9b55-5defd7d31ca2",
   "metadata": {},
   "source": [
    "# Spark/ Spark RDD/ Mapreduce/ Spark df& SQL 待涉及"
   ]
  },
  {
   "cell_type": "markdown",
   "id": "62f75fc3-9b0a-408c-bd9d-4a96e231d323",
   "metadata": {},
   "source": [
    "# Part 2: Feature Engineering"
   ]
  },
  {
   "cell_type": "markdown",
   "id": "419a8e1f-c708-4059-b19d-e87c1145b79d",
   "metadata": {},
   "source": [
    "### Time Features"
   ]
  },
  {
   "cell_type": "code",
   "execution_count": 6,
   "id": "cb991337-9277-4d09-bc13-7e69c2516a31",
   "metadata": {},
   "outputs": [],
   "source": [
    "df_par[\"datetime\"] = pd.to_datetime(df_par[\"datetime\"])\n",
    "\n",
    "df_par[\"minute\"] = df_par[\"datetime\"].dt.minute\n",
    "df_par[\"hour\"] = df_par[\"datetime\"].dt.hour\n",
    "df_par[\"dayofweek\"] = df_par[\"datetime\"].dt.dayofweek\n",
    "df_par[\"is_open_hour\"] = df_par[\"hour\"].between(9, 16)"
   ]
  },
  {
   "cell_type": "markdown",
   "id": "abc480da-3578-4e11-a075-fa5eeeec91cd",
   "metadata": {},
   "source": [
    "### Price Features"
   ]
  },
  {
   "cell_type": "code",
   "execution_count": 9,
   "id": "ca5f6481-e673-4eae-83c8-76bd5660ab13",
   "metadata": {},
   "outputs": [],
   "source": [
    "import numpy as np\n",
    "df_par[\"hl_spread\"] = df_par[\"high\"] - df_par[\"low\"]\n",
    "df_par[\"oc_return\"] = (df_par[\"close\"] - df_par[\"open\"]) / df_par[\"open\"]\n",
    "\n",
    "df_par[\"log_return\"] = (\n",
    "    df_par.groupby(\"ticker\")[\"close\"]\n",
    "    .apply(lambda x: np.log(x / x.shift(1)))\n",
    "    .reset_index(drop=True)\n",
    ")\n"
   ]
  },
  {
   "cell_type": "markdown",
   "id": "53dd551c-a152-47a2-a732-884041e26801",
   "metadata": {},
   "source": [
    "### Lag Features"
   ]
  },
  {
   "cell_type": "code",
   "execution_count": 10,
   "id": "49443b42-772e-4067-88cc-4ae2c4754719",
   "metadata": {},
   "outputs": [],
   "source": [
    "\n",
    "df_par[\"close_lag1\"] = (\n",
    "    df_par.groupby(\"ticker\")[\"close\"]\n",
    "    .shift(1)\n",
    "    .reset_index(drop=True)\n",
    ")\n",
    "\n",
    "\n",
    "df_par[\"close_roll_mean_5\"] = (\n",
    "    df_par.groupby(\"ticker\")[\"close\"]\n",
    "    .transform(lambda x: x.rolling(5).mean())\n",
    "    .reset_index(drop=True)\n",
    ")\n",
    "\n",
    "\n",
    "df_par[\"volume_roll_std_15\"] = (\n",
    "    df_par.groupby(\"ticker\")[\"volume\"]\n",
    "    .transform(lambda x: x.rolling(15).std())\n",
    "    .reset_index(drop=True)\n",
    ")"
   ]
  },
  {
   "cell_type": "code",
   "execution_count": 11,
   "id": "f6136e86-b4b9-40e6-905b-363ca4dd7259",
   "metadata": {},
   "outputs": [
    {
     "data": {
      "text/html": [
       "<div>\n",
       "<style scoped>\n",
       "    .dataframe tbody tr th:only-of-type {\n",
       "        vertical-align: middle;\n",
       "    }\n",
       "\n",
       "    .dataframe tbody tr th {\n",
       "        vertical-align: top;\n",
       "    }\n",
       "\n",
       "    .dataframe thead th {\n",
       "        text-align: right;\n",
       "    }\n",
       "</style>\n",
       "<table border=\"1\" class=\"dataframe\">\n",
       "  <thead>\n",
       "    <tr style=\"text-align: right;\">\n",
       "      <th></th>\n",
       "      <th>volume</th>\n",
       "      <th>vwap</th>\n",
       "      <th>open</th>\n",
       "      <th>close</th>\n",
       "      <th>high</th>\n",
       "      <th>low</th>\n",
       "      <th>timestamp</th>\n",
       "      <th>transactions</th>\n",
       "      <th>datetime</th>\n",
       "      <th>ticker</th>\n",
       "      <th>minute</th>\n",
       "      <th>hour</th>\n",
       "      <th>dayofweek</th>\n",
       "      <th>is_open_hour</th>\n",
       "      <th>hl_spread</th>\n",
       "      <th>oc_return</th>\n",
       "      <th>log_return</th>\n",
       "      <th>close_lag1</th>\n",
       "      <th>close_roll_mean_5</th>\n",
       "      <th>volume_roll_std_15</th>\n",
       "    </tr>\n",
       "  </thead>\n",
       "  <tbody>\n",
       "    <tr>\n",
       "      <th>0</th>\n",
       "      <td>17632.0</td>\n",
       "      <td>137.0174</td>\n",
       "      <td>137.420</td>\n",
       "      <td>137.2600</td>\n",
       "      <td>137.565</td>\n",
       "      <td>136.85</td>\n",
       "      <td>1680528600000</td>\n",
       "      <td>105</td>\n",
       "      <td>2023-04-03 13:30:00</td>\n",
       "      <td>A</td>\n",
       "      <td>30</td>\n",
       "      <td>13</td>\n",
       "      <td>0</td>\n",
       "      <td>True</td>\n",
       "      <td>0.715</td>\n",
       "      <td>-0.001164</td>\n",
       "      <td>NaN</td>\n",
       "      <td>NaN</td>\n",
       "      <td>NaN</td>\n",
       "      <td>NaN</td>\n",
       "    </tr>\n",
       "    <tr>\n",
       "      <th>1</th>\n",
       "      <td>1011.0</td>\n",
       "      <td>137.2530</td>\n",
       "      <td>137.255</td>\n",
       "      <td>137.3200</td>\n",
       "      <td>137.320</td>\n",
       "      <td>137.25</td>\n",
       "      <td>1680528660000</td>\n",
       "      <td>28</td>\n",
       "      <td>2023-04-03 13:31:00</td>\n",
       "      <td>A</td>\n",
       "      <td>31</td>\n",
       "      <td>13</td>\n",
       "      <td>0</td>\n",
       "      <td>True</td>\n",
       "      <td>0.070</td>\n",
       "      <td>0.000474</td>\n",
       "      <td>0.000437</td>\n",
       "      <td>137.26</td>\n",
       "      <td>NaN</td>\n",
       "      <td>NaN</td>\n",
       "    </tr>\n",
       "    <tr>\n",
       "      <th>2</th>\n",
       "      <td>697.0</td>\n",
       "      <td>137.2364</td>\n",
       "      <td>137.220</td>\n",
       "      <td>137.3300</td>\n",
       "      <td>137.330</td>\n",
       "      <td>136.95</td>\n",
       "      <td>1680528720000</td>\n",
       "      <td>18</td>\n",
       "      <td>2023-04-03 13:32:00</td>\n",
       "      <td>A</td>\n",
       "      <td>32</td>\n",
       "      <td>13</td>\n",
       "      <td>0</td>\n",
       "      <td>True</td>\n",
       "      <td>0.380</td>\n",
       "      <td>0.000802</td>\n",
       "      <td>0.000073</td>\n",
       "      <td>137.32</td>\n",
       "      <td>NaN</td>\n",
       "      <td>NaN</td>\n",
       "    </tr>\n",
       "    <tr>\n",
       "      <th>3</th>\n",
       "      <td>4004.0</td>\n",
       "      <td>137.3055</td>\n",
       "      <td>136.990</td>\n",
       "      <td>137.5700</td>\n",
       "      <td>137.570</td>\n",
       "      <td>136.99</td>\n",
       "      <td>1680528780000</td>\n",
       "      <td>79</td>\n",
       "      <td>2023-04-03 13:33:00</td>\n",
       "      <td>A</td>\n",
       "      <td>33</td>\n",
       "      <td>13</td>\n",
       "      <td>0</td>\n",
       "      <td>True</td>\n",
       "      <td>0.580</td>\n",
       "      <td>0.004234</td>\n",
       "      <td>0.001746</td>\n",
       "      <td>137.33</td>\n",
       "      <td>NaN</td>\n",
       "      <td>NaN</td>\n",
       "    </tr>\n",
       "    <tr>\n",
       "      <th>4</th>\n",
       "      <td>7244.0</td>\n",
       "      <td>137.4399</td>\n",
       "      <td>137.690</td>\n",
       "      <td>137.3784</td>\n",
       "      <td>137.720</td>\n",
       "      <td>137.11</td>\n",
       "      <td>1680528840000</td>\n",
       "      <td>107</td>\n",
       "      <td>2023-04-03 13:34:00</td>\n",
       "      <td>A</td>\n",
       "      <td>34</td>\n",
       "      <td>13</td>\n",
       "      <td>0</td>\n",
       "      <td>True</td>\n",
       "      <td>0.610</td>\n",
       "      <td>-0.002263</td>\n",
       "      <td>-0.001394</td>\n",
       "      <td>137.57</td>\n",
       "      <td>137.37168</td>\n",
       "      <td>NaN</td>\n",
       "    </tr>\n",
       "  </tbody>\n",
       "</table>\n",
       "</div>"
      ],
      "text/plain": [
       "    volume      vwap     open     close     high     low      timestamp  \\\n",
       "0  17632.0  137.0174  137.420  137.2600  137.565  136.85  1680528600000   \n",
       "1   1011.0  137.2530  137.255  137.3200  137.320  137.25  1680528660000   \n",
       "2    697.0  137.2364  137.220  137.3300  137.330  136.95  1680528720000   \n",
       "3   4004.0  137.3055  136.990  137.5700  137.570  136.99  1680528780000   \n",
       "4   7244.0  137.4399  137.690  137.3784  137.720  137.11  1680528840000   \n",
       "\n",
       "   transactions            datetime ticker  minute  hour  dayofweek  \\\n",
       "0           105 2023-04-03 13:30:00      A      30    13          0   \n",
       "1            28 2023-04-03 13:31:00      A      31    13          0   \n",
       "2            18 2023-04-03 13:32:00      A      32    13          0   \n",
       "3            79 2023-04-03 13:33:00      A      33    13          0   \n",
       "4           107 2023-04-03 13:34:00      A      34    13          0   \n",
       "\n",
       "   is_open_hour  hl_spread  oc_return  log_return  close_lag1  \\\n",
       "0          True      0.715  -0.001164         NaN         NaN   \n",
       "1          True      0.070   0.000474    0.000437      137.26   \n",
       "2          True      0.380   0.000802    0.000073      137.32   \n",
       "3          True      0.580   0.004234    0.001746      137.33   \n",
       "4          True      0.610  -0.002263   -0.001394      137.57   \n",
       "\n",
       "   close_roll_mean_5  volume_roll_std_15  \n",
       "0                NaN                 NaN  \n",
       "1                NaN                 NaN  \n",
       "2                NaN                 NaN  \n",
       "3                NaN                 NaN  \n",
       "4          137.37168                 NaN  "
      ]
     },
     "execution_count": 11,
     "metadata": {},
     "output_type": "execute_result"
    }
   ],
   "source": [
    "df_par.head()"
   ]
  },
  {
   "cell_type": "code",
   "execution_count": 12,
   "id": "d0383c64-f95b-4d34-9fe6-ff583c1953ca",
   "metadata": {},
   "outputs": [],
   "source": [
    "df_par.to_parquet(r'C:\\Users\\Username\\OneDrive\\Desktop\\810project\\dffeatures.parquet', index=False)"
   ]
  },
  {
   "cell_type": "code",
   "execution_count": null,
   "id": "ec4ee360-c0e2-44e8-824e-a727aded6273",
   "metadata": {},
   "outputs": [],
   "source": []
  }
 ],
 "metadata": {
  "kernelspec": {
   "display_name": "Python 3 (ipykernel)",
   "language": "python",
   "name": "python3"
  },
  "language_info": {
   "codemirror_mode": {
    "name": "ipython",
    "version": 3
   },
   "file_extension": ".py",
   "mimetype": "text/x-python",
   "name": "python",
   "nbconvert_exporter": "python",
   "pygments_lexer": "ipython3",
   "version": "3.13.0"
  }
 },
 "nbformat": 4,
 "nbformat_minor": 5
}
